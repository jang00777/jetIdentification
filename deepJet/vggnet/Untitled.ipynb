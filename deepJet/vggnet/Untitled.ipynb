{
 "cells": [
  {
   "cell_type": "code",
   "execution_count": 1,
   "metadata": {
    "collapsed": true
   },
   "outputs": [],
   "source": [
    "import tensorflow as tf\n",
    "\n",
    "from eval import eval_once"
   ]
  },
  {
   "cell_type": "code",
   "execution_count": 2,
   "metadata": {},
   "outputs": [
    {
     "name": "stdout",
     "output_type": "stream",
     "text": [
      "1st conv:  (300, 33, 33, 64)\n",
      "2nd conv:  (300, 33, 33, 64)\n",
      "1st pool:  (300, 17, 17, 64)\n",
      "3rd conv:  (300, 17, 17, 128)\n",
      "4th conv:  (300, 17, 17, 128)\n",
      "2nd pool:  (300, 9, 9, 128)\n",
      "5th conv:  (300, 9, 9, 256)\n",
      "6th conv:  (300, 9, 9, 256)\n",
      "3rd pool:  (300, 5, 5, 256)\n",
      "7th conv:  (300, 5, 5, 512)\n",
      "8th conv:  (300, 5, 5, 512)\n",
      "4th pool:  (300, 3, 3, 512)\n",
      "INFO:tensorflow:Restoring parameters from ../logs/vggnet-0/ckpt/run-6000\n",
      "(step: 0) loss = 0.48, acc = 0.783\n",
      "(step: 20) loss = 0.52, acc = 0.747\n",
      "(step: 40) loss = 0.52, acc = 0.757\n",
      "(step: 60) loss = 0.49, acc = 0.757\n",
      "(step: 80) loss = 0.45, acc = 0.773\n",
      "(step: 100) loss = 0.53, acc = 0.730\n",
      "(step: 120) loss = 0.52, acc = 0.747\n",
      "(step: 140) loss = 0.51, acc = 0.760\n",
      "(step: 160) loss = 0.57, acc = 0.710\n",
      "(step: 180) loss = 0.50, acc = 0.773\n",
      "(step: 200) loss = 0.51, acc = 0.770\n",
      "(step: 220) loss = 0.52, acc = 0.740\n",
      "(step: 240) loss = 0.51, acc = 0.747\n",
      "(step: 260) loss = 0.49, acc = 0.737\n",
      "(step: 280) loss = 0.51, acc = 0.750\n",
      "296 steps\n"
     ]
    },
    {
     "ename": "ValueError",
     "evalue": "'=' alignment not allowed in string format specifier",
     "output_type": "error",
     "traceback": [
      "\u001b[0;31m---------------------------------------------------------------------------\u001b[0m",
      "\u001b[0;31mValueError\u001b[0m                                Traceback (most recent call last)",
      "\u001b[0;32m<ipython-input-2-2da33fc362fa>\u001b[0m in \u001b[0;36m<module>\u001b[0;34m()\u001b[0m\n\u001b[1;32m      4\u001b[0m               \u001b[0mwriter\u001b[0m\u001b[0;34m,\u001b[0m\u001b[0;34m\u001b[0m\u001b[0m\n\u001b[1;32m      5\u001b[0m               \u001b[0;34m'../data/tfrecords/jet15_rgb_validation.tfrecords'\u001b[0m\u001b[0;34m,\u001b[0m\u001b[0;34m\u001b[0m\u001b[0m\n\u001b[0;32m----> 6\u001b[0;31m               '.')\n\u001b[0m",
      "\u001b[0;32m/home/slowmoyang/lab/jetIdentification/deepJet/vggnet/eval.pyc\u001b[0m in \u001b[0;36meval_once\u001b[0;34m(global_step, ckpt_file, writer, tfrecord_file, roc_path)\u001b[0m\n\u001b[1;32m     51\u001b[0m                 \u001b[0mroc\u001b[0m\u001b[0;34m.\u001b[0m\u001b[0meval_roc\u001b[0m\u001b[0;34m(\u001b[0m\u001b[0;34m)\u001b[0m\u001b[0;34m\u001b[0m\u001b[0m\n\u001b[1;32m     52\u001b[0m                 \u001b[0mroc\u001b[0m\u001b[0;34m.\u001b[0m\u001b[0msave_roc\u001b[0m\u001b[0;34m(\u001b[0m\u001b[0mroc_path\u001b[0m\u001b[0;34m)\u001b[0m\u001b[0;34m\u001b[0m\u001b[0m\n\u001b[0;32m---> 53\u001b[0;31m                 \u001b[0mroc\u001b[0m\u001b[0;34m.\u001b[0m\u001b[0mplot_roc_curve\u001b[0m\u001b[0;34m(\u001b[0m\u001b[0mstep\u001b[0m\u001b[0;34m=\u001b[0m\u001b[0mglobal_step\u001b[0m\u001b[0;34m,\u001b[0m \u001b[0mtitle\u001b[0m\u001b[0;34m=\u001b[0m\u001b[0;34m'VGGNet'\u001b[0m\u001b[0;34m,\u001b[0m \u001b[0msave_path\u001b[0m\u001b[0;34m=\u001b[0m\u001b[0mroc_path\u001b[0m\u001b[0;34m)\u001b[0m\u001b[0;34m\u001b[0m\u001b[0m\n\u001b[0m\u001b[1;32m     54\u001b[0m                 \u001b[0mcoord\u001b[0m\u001b[0;34m.\u001b[0m\u001b[0mrequest_stop\u001b[0m\u001b[0;34m(\u001b[0m\u001b[0;34m)\u001b[0m\u001b[0;34m\u001b[0m\u001b[0m\n\u001b[1;32m     55\u001b[0m                 \u001b[0mcoord\u001b[0m\u001b[0;34m.\u001b[0m\u001b[0mjoin\u001b[0m\u001b[0;34m(\u001b[0m\u001b[0mthreads\u001b[0m\u001b[0;34m)\u001b[0m\u001b[0;34m\u001b[0m\u001b[0m\n",
      "\u001b[0;32m/home/slowmoyang/lab/jetIdentification/deepJet/roc.py\u001b[0m in \u001b[0;36mplot_roc_curve\u001b[0;34m(self, step, title, save_path, show)\u001b[0m\n\u001b[1;32m     34\u001b[0m         \u001b[0mplt\u001b[0m\u001b[0;34m.\u001b[0m\u001b[0mlegend\u001b[0m\u001b[0;34m(\u001b[0m\u001b[0mloc\u001b[0m\u001b[0;34m=\u001b[0m\u001b[0;34m'lower left'\u001b[0m\u001b[0;34m)\u001b[0m\u001b[0;34m\u001b[0m\u001b[0m\n\u001b[1;32m     35\u001b[0m         \u001b[0mplt\u001b[0m\u001b[0;34m.\u001b[0m\u001b[0mgrid\u001b[0m\u001b[0;34m(\u001b[0m\u001b[0;34m)\u001b[0m\u001b[0;34m\u001b[0m\u001b[0m\n\u001b[0;32m---> 36\u001b[0;31m         \u001b[0mfilename\u001b[0m \u001b[0;34m=\u001b[0m \u001b[0msave_path\u001b[0m \u001b[0;34m+\u001b[0m \u001b[0;34m'run-'\u001b[0m \u001b[0;34m+\u001b[0m \u001b[0;34m'{0:06}'\u001b[0m\u001b[0;34m.\u001b[0m\u001b[0mformat\u001b[0m\u001b[0;34m(\u001b[0m\u001b[0mstr\u001b[0m\u001b[0;34m(\u001b[0m\u001b[0mstep\u001b[0m\u001b[0;34m)\u001b[0m\u001b[0;34m)\u001b[0m \u001b[0;34m+\u001b[0m \u001b[0;34m'.png'\u001b[0m\u001b[0;34m\u001b[0m\u001b[0m\n\u001b[0m\u001b[1;32m     37\u001b[0m         \u001b[0;32mprint\u001b[0m\u001b[0;34m(\u001b[0m\u001b[0mfilename\u001b[0m\u001b[0;34m)\u001b[0m\u001b[0;34m\u001b[0m\u001b[0m\n\u001b[1;32m     38\u001b[0m         \u001b[0mplt\u001b[0m\u001b[0;34m.\u001b[0m\u001b[0msavefig\u001b[0m\u001b[0;34m(\u001b[0m\u001b[0mfilename\u001b[0m\u001b[0;34m)\u001b[0m\u001b[0;34m\u001b[0m\u001b[0m\n",
      "\u001b[0;31mValueError\u001b[0m: '=' alignment not allowed in string format specifier"
     ]
    }
   ],
   "source": [
    "writer = tf.summary.FileWriter('.')\n",
    "a = eval_once(600,\n",
    "              '../logs/vggnet-0/ckpt/run-6000',\n",
    "              writer,\n",
    "              '../data/tfrecords/jet15_rgb_validation.tfrecords',\n",
    "              '.')"
   ]
  },
  {
   "cell_type": "code",
   "execution_count": null,
   "metadata": {
    "collapsed": true
   },
   "outputs": [],
   "source": []
  }
 ],
 "metadata": {
  "kernelspec": {
   "display_name": "Python 2",
   "language": "python",
   "name": "python2"
  },
  "language_info": {
   "codemirror_mode": {
    "name": "ipython",
    "version": 2
   },
   "file_extension": ".py",
   "mimetype": "text/x-python",
   "name": "python",
   "nbconvert_exporter": "python",
   "pygments_lexer": "ipython2",
   "version": "2.7.12"
  }
 },
 "nbformat": 4,
 "nbformat_minor": 2
}
